{
 "cells": [
  {
   "cell_type": "code",
   "execution_count": 9,
   "id": "e76f2491",
   "metadata": {},
   "outputs": [
    {
     "name": "stdout",
     "output_type": "stream",
     "text": [
      "--------------------Sudoku Coloring-------------\n",
      "[[1 4 2 0 1]\n",
      " [3 0 0 1 1]\n",
      " [4 0 3 4 2]\n",
      " [0 1 0 0 3]]\n"
     ]
    }
   ],
   "source": [
    "import numpy as np\n",
    "\n",
    "\n",
    "# Find Empty cases\n",
    "\n",
    "def Find_blanks(grid, i, j):\n",
    "        for x in range(i,4):                 # traverse grid lines\n",
    "                for y in range(j,4):         # travers grid columns\n",
    "                        if grid[x][y] == 0:\n",
    "                                return x,y\n",
    "        for x in range(0,4):\n",
    "                for y in range(0,4):\n",
    "                        if grid[x][y] == 0:\n",
    "                                return x,y\n",
    "        return -1,-1\n",
    "\n",
    "    \n",
    "# find the color e which consists of the three constraints\n",
    "\n",
    "def RowColumn_Valid(grid, i, j, e):     \n",
    "        ligne_valide = all([e != grid[i][x] for x in range(4)])           # row had different color (constraint 1)\n",
    "        if ligne_valide:\n",
    "                colonne_valid = all([e != grid[x][j] for x in range(4)])   # column had different color (constraint 2)\n",
    "                if colonne_valid:\n",
    "                        #  Find the squares of the same square / constrained 3 /\n",
    "                        secTopX, secTopY = 1 *(i//1), 1 *(j//1) # use the quotient.\n",
    "                        for x in range(secTopX, secTopX+1):\n",
    "                                for y in range(secTopY, secTopY+1):\n",
    "                                        if grid[x][y] == e:\n",
    "                                                return False\n",
    "                        return True\n",
    "        return False\n",
    "\n",
    "\n",
    "def sudoku_table(grid, i=0, j=0):\n",
    "        i,j = Find_blanks(grid, i, j)\n",
    "        if i == -1:\n",
    "                return True\n",
    "        for e in range(1,5):\n",
    "                if RowColumn_Valid(grid,i,j,e):\n",
    "                        grid[i][j] = e\n",
    "                        if sudoku_tableau(grid, i, j):\n",
    "                                return True\n",
    "                            \n",
    "                        grid[i][j] = 0\n",
    "        return False\n",
    "    \n",
    "sudoku = [[1,4,2,0,1],[3,0,0,1,1],[4,0,3,4,2],[0,1,0,0,3]]\n",
    "\n",
    "sudoku_tableau(sudoku)\n",
    "\n",
    "print('--------------------Sudoku Coloring-------------')\n",
    "print(np.matrix(sudoku))"
   ]
  },
  {
   "cell_type": "code",
   "execution_count": null,
   "id": "c66cfe00",
   "metadata": {},
   "outputs": [],
   "source": []
  }
 ],
 "metadata": {
  "kernelspec": {
   "display_name": "Python 3 (ipykernel)",
   "language": "python",
   "name": "python3"
  },
  "language_info": {
   "codemirror_mode": {
    "name": "ipython",
    "version": 3
   },
   "file_extension": ".py",
   "mimetype": "text/x-python",
   "name": "python",
   "nbconvert_exporter": "python",
   "pygments_lexer": "ipython3",
   "version": "3.9.12"
  }
 },
 "nbformat": 4,
 "nbformat_minor": 5
}
